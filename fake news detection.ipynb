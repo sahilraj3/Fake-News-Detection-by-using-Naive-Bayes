{
 "cells": [
  {
   "cell_type": "code",
   "execution_count": 1,
   "metadata": {},
   "outputs": [
    {
     "name": "stdout",
     "output_type": "stream",
     "text": [
      "                                                URLs  \\\n",
      "0  http://www.bbc.com/news/world-us-canada-414191...   \n",
      "1  https://www.reuters.com/article/us-filmfestiva...   \n",
      "2  https://www.nytimes.com/2017/10/09/us/politics...   \n",
      "3  https://www.reuters.com/article/us-mexico-oil-...   \n",
      "4  http://www.cnn.com/videos/cnnmoney/2017/10/08/...   \n",
      "\n",
      "                                            Headline  \\\n",
      "0         Four ways Bob Corker skewered Donald Trump   \n",
      "1  Linklater's war veteran comedy speaks to moder...   \n",
      "2  Trump’s Fight With Corker Jeopardizes His Legi...   \n",
      "3  Egypt's Cheiron wins tie-up with Pemex for Mex...   \n",
      "4        Jason Aldean opens 'SNL' with Vegas tribute   \n",
      "\n",
      "                                                Body  Label  \n",
      "0  Image copyright Getty Images\\nOn Sunday mornin...      1  \n",
      "1  LONDON (Reuters) - “Last Flag Flying”, a comed...      1  \n",
      "2  The feud broke into public view last week when...      1  \n",
      "3  MEXICO CITY (Reuters) - Egypt’s Cheiron Holdin...      1  \n",
      "4  Country singer Jason Aldean, who was performin...      1  \n",
      "\n",
      "processed data set:\n",
      "\n",
      "\n",
      "                                             Headline  \\\n",
      "0         Four ways Bob Corker skewered Donald Trump   \n",
      "1  Linklater's war veteran comedy speaks to moder...   \n",
      "2  Trump’s Fight With Corker Jeopardizes His Legi...   \n",
      "3  Egypt's Cheiron wins tie-up with Pemex for Mex...   \n",
      "4        Jason Aldean opens 'SNL' with Vegas tribute   \n",
      "\n",
      "                                                Body  Label  \n",
      "0  Image copyright Getty Images\\nOn Sunday mornin...      1  \n",
      "1  LONDON (Reuters) - “Last Flag Flying”, a comed...      1  \n",
      "2  The feud broke into public view last week when...      1  \n",
      "3  MEXICO CITY (Reuters) - Egypt’s Cheiron Holdin...      1  \n",
      "4  Country singer Jason Aldean, who was performin...      1  \n"
     ]
    },
    {
     "name": "stderr",
     "output_type": "stream",
     "text": [
      "C:\\Users\\CIPHER POTTER\\Anaconda3\\lib\\site-packages\\ipykernel_launcher.py:22: SettingWithCopyWarning: \n",
      "A value is trying to be set on a copy of a slice from a DataFrame\n",
      "\n",
      "See the caveats in the documentation: http://pandas.pydata.org/pandas-docs/stable/user_guide/indexing.html#returning-a-view-versus-a-copy\n"
     ]
    },
    {
     "name": "stdout",
     "output_type": "stream",
     "text": [
      "Model Score is:  0.9688279301745636\n",
      "output(1:fake/otherwise 0)  :  [1 1]\n"
     ]
    }
   ],
   "source": [
    "# import necessary liabrabies\n",
    "import pandas as pd\n",
    "from sklearn import metrics\n",
    "import pandas as pd\n",
    "from sklearn import metrics\n",
    "\n",
    "#load the news datasets\n",
    "#label: fake news=1 otherwise 0\n",
    "df=pd.read_csv(\"fakenews.csv\")\n",
    "print(df.head())\n",
    "\n",
    "#data preprocessing we drop the unwanted columns that didn`t used for predictions\n",
    "df=df.drop(\"URLs\",axis='columns')\n",
    "print(\"\\nprocessed data set:\\n\")\n",
    "print(\"\\n\",df.head())\n",
    "\n",
    "      \n",
    "#replacing the nan values with headlines in body \n",
    "x=df.shape[0]\n",
    "for i in range(0,x-1):\n",
    "    if df.Body.isnull()[i]:\n",
    "        df.Body[i]=df.Headline[i]\n",
    "      \n",
    "#now splitting the dataset into input and target sets\n",
    "input=df.Body\n",
    "target=df.Label\n",
    "\n",
    "#dividing the dataset into training and testing sets\n",
    "from sklearn.model_selection import train_test_split\n",
    "x_train,x_test,y_train,y_test=train_test_split(input,target,test_size=0.2) #20% of the datasets is used into test case\n",
    "\n",
    "#using count vectorizer we generate the tokens and their frequency distrybution (occurance)\n",
    "from sklearn.feature_extraction.text import CountVectorizer\n",
    "v=CountVectorizer()\n",
    "x_train_count=v.fit_transform(x_train)\n",
    "x_train_count.toarray()#convert the tokens into array\n",
    "x_test_count=v.transform(x_test)\n",
    "x_test_count.toarray()\n",
    "      \n",
    "#implement the classifier\n",
    "from sklearn.naive_bayes import MultinomialNB\n",
    "clf=MultinomialNB()\n",
    "clf.fit(x_train_count,y_train)\n",
    "pred1=clf.predict(x_test_count)\n",
    "score=clf.score(x_test_count,y_test)\n",
    "print(\"Model Score is: \",score)\n",
    "      \n",
    "#for further validation\n",
    "validationset=['soldiers in chiana border croses the border',\n",
    "               'country singer jason aldean perform his last time'\n",
    "    \n",
    "]\n",
    "valid_count=v.transform(validationset)\n",
    "\n",
    "pred=clf.predict(valid_count)\n",
    "print(\"output(1:fake/otherwise 0)  : \",pred)\n"
   ]
  }
 ],
 "metadata": {
  "kernelspec": {
   "display_name": "Python 3",
   "language": "python",
   "name": "python3"
  },
  "language_info": {
   "codemirror_mode": {
    "name": "ipython",
    "version": 3
   },
   "file_extension": ".py",
   "mimetype": "text/x-python",
   "name": "python",
   "nbconvert_exporter": "python",
   "pygments_lexer": "ipython3",
   "version": "3.7.4"
  }
 },
 "nbformat": 4,
 "nbformat_minor": 2
}
