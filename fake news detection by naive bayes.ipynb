{
 "cells": [
  {
   "cell_type": "code",
   "execution_count": null,
   "metadata": {},
   "outputs": [],
   "source": [
    "# import necessary liabrabies\n",
    "import pandas as pd\n",
    "from sklearn import metrics\n",
    "import pandas as pd\n",
    "from sklearn import metrics\n",
    "\n",
    "#load the news datasets\n",
    "#label: spam =1 otherwise 0\n",
    "df=pd.read_csv(\"fakenews.csv\")\n",
    "print(df.head())\n",
    "\n",
    "#data preprocessing we drop the unwanted columns that didn`t used for predictions\n",
    "df=df.drop(\"URLs\",axis='columns')\n",
    "print(\"\\nprocessed data set:\\n\")\n",
    "print(\"\\n\",df.head())\n",
    "\n",
    "      \n",
    "#replacing the nan values with headlines in body \n",
    "x=df.shape[0]\n",
    "for i in range(0,x-1):\n",
    "    if df.Body.isnull()[i]:\n",
    "        df.Body[i]=df.Headline[i]\n",
    "      \n",
    " #now splitting the dataset into input and target sets\n",
    "input=df.Body\n",
    "target=df.Label\n",
    "\n",
    "#dividing the dataset into training and testing sets\n",
    "from sklearn.model_selection import train_test_split\n",
    "x_train,x_test,y_train,y_test=train_test_split(input,target,test_size=0.2) #20% of the datasets is used into test case\n",
    "\n",
    "#using count vectorizer we generate the tokens and their frequency distrybution (occurance)\n",
    "from sklearn.feature_extraction.text import CountVectorizer\n",
    "v=CountVectorizer()\n",
    "x_train_count=v.fit_transform(x_train.values)\n",
    "x_train_count.toarray()#convert the tokens into array\n",
    "x_test_count=v.transform(x_test.values)\n",
    "x_test_count.toarray()\n",
    "      \n",
    "#implement the classifier\n",
    "from sklearn.naive_bayes import MultinomialNB\n",
    "clf=MultinomialNB()\n",
    "clf.fit(x_train_count,y_train)\n",
    "pred1=clf.predict(x_test_count)\n",
    "score=clf.score(x_test_count,y_test)\n",
    "print(\"Model Score is: \",score)\n",
    "      \n",
    "#for further validation\n",
    "validationset=['soldiers in chiana border croses the border',\n",
    "               'country singer jason aldean perform his last time'\n",
    "    \n",
    "]\n",
    "valid_count=v.transform(validationset)\n",
    "\n",
    "pred=clf.predict(valid_count)\n",
    "print(\"output(1:fake/otherwise 0)  : \",pred)\n"
   ]
  }
 ],
 "metadata": {
  "kernelspec": {
   "display_name": "Python 3",
   "language": "python",
   "name": "python3"
  },
  "language_info": {
   "codemirror_mode": {
    "name": "ipython",
    "version": 3
   },
   "file_extension": ".py",
   "mimetype": "text/x-python",
   "name": "python",
   "nbconvert_exporter": "python",
   "pygments_lexer": "ipython3",
   "version": "3.7.4"
  }
 },
 "nbformat": 4,
 "nbformat_minor": 2
}
